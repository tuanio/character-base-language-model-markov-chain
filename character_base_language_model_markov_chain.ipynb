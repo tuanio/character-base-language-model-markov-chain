{
 "cells": [
  {
   "cell_type": "code",
   "execution_count": 1,
   "id": "e46d3dad-7095-4c5a-8c60-36cb034e6519",
   "metadata": {
    "execution": {
     "iopub.execute_input": "2021-08-20T10:22:57.250804Z",
     "iopub.status.busy": "2021-08-20T10:22:57.250378Z",
     "iopub.status.idle": "2021-08-20T10:23:00.162329Z",
     "shell.execute_reply": "2021-08-20T10:23:00.161350Z",
     "shell.execute_reply.started": "2021-08-20T10:22:57.250804Z"
    },
    "tags": []
   },
   "outputs": [
    {
     "name": "stderr",
     "output_type": "stream",
     "text": [
      "[nltk_data] Downloading package punkt to\n",
      "[nltk_data]     C:\\Users\\nvatu\\AppData\\Roaming\\nltk_data...\n",
      "[nltk_data]   Package punkt is already up-to-date!\n"
     ]
    }
   ],
   "source": [
    "import numpy as np\n",
    "import pandas as pd\n",
    "import string\n",
    "from sqlite3 import connect\n",
    "from collections import defaultdict\n",
    "import nltk\n",
    "from nltk import word_tokenize\n",
    "nltk.download('punkt')\n",
    "import re"
   ]
  },
  {
   "cell_type": "code",
   "execution_count": 2,
   "id": "b02c60ec-8432-49fb-be82-0cf7e6179d09",
   "metadata": {
    "execution": {
     "iopub.execute_input": "2021-08-20T10:23:00.164790Z",
     "iopub.status.busy": "2021-08-20T10:23:00.164452Z",
     "iopub.status.idle": "2021-08-20T10:23:00.268546Z",
     "shell.execute_reply": "2021-08-20T10:23:00.268546Z",
     "shell.execute_reply.started": "2021-08-20T10:23:00.164716Z"
    },
    "tags": []
   },
   "outputs": [
    {
     "data": {
      "text/html": [
       "<div>\n",
       "<style scoped>\n",
       "    .dataframe tbody tr th:only-of-type {\n",
       "        vertical-align: middle;\n",
       "    }\n",
       "\n",
       "    .dataframe tbody tr th {\n",
       "        vertical-align: top;\n",
       "    }\n",
       "\n",
       "    .dataframe thead th {\n",
       "        text-align: right;\n",
       "    }\n",
       "</style>\n",
       "<table border=\"1\" class=\"dataframe\">\n",
       "  <thead>\n",
       "    <tr style=\"text-align: right;\">\n",
       "      <th></th>\n",
       "      <th>author</th>\n",
       "      <th>claps</th>\n",
       "      <th>reading_time</th>\n",
       "      <th>link</th>\n",
       "      <th>title</th>\n",
       "      <th>text</th>\n",
       "    </tr>\n",
       "  </thead>\n",
       "  <tbody>\n",
       "    <tr>\n",
       "      <th>0</th>\n",
       "      <td>Justin Lee</td>\n",
       "      <td>8.3K</td>\n",
       "      <td>11</td>\n",
       "      <td>https://medium.com/swlh/chatbots-were-the-next...</td>\n",
       "      <td>Chatbots were the next big thing: what happene...</td>\n",
       "      <td>Oh, how the headlines blared:\\nChatbots were T...</td>\n",
       "    </tr>\n",
       "    <tr>\n",
       "      <th>1</th>\n",
       "      <td>Conor Dewey</td>\n",
       "      <td>1.4K</td>\n",
       "      <td>7</td>\n",
       "      <td>https://towardsdatascience.com/python-for-data...</td>\n",
       "      <td>Python for Data Science: 8 Concepts You May Ha...</td>\n",
       "      <td>If you’ve ever found yourself looking up the s...</td>\n",
       "    </tr>\n",
       "    <tr>\n",
       "      <th>2</th>\n",
       "      <td>William Koehrsen</td>\n",
       "      <td>2.8K</td>\n",
       "      <td>11</td>\n",
       "      <td>https://towardsdatascience.com/automated-featu...</td>\n",
       "      <td>Automated Feature Engineering in Python – Towa...</td>\n",
       "      <td>Machine learning is increasingly moving from h...</td>\n",
       "    </tr>\n",
       "    <tr>\n",
       "      <th>3</th>\n",
       "      <td>Gant Laborde</td>\n",
       "      <td>1.3K</td>\n",
       "      <td>7</td>\n",
       "      <td>https://medium.freecodecamp.org/machine-learni...</td>\n",
       "      <td>Machine Learning: how to go from Zero to Hero ...</td>\n",
       "      <td>If your understanding of A.I. and Machine Lear...</td>\n",
       "    </tr>\n",
       "    <tr>\n",
       "      <th>4</th>\n",
       "      <td>Emmanuel Ameisen</td>\n",
       "      <td>935</td>\n",
       "      <td>11</td>\n",
       "      <td>https://blog.insightdatascience.com/reinforcem...</td>\n",
       "      <td>Reinforcement Learning from scratch – Insight ...</td>\n",
       "      <td>Want to learn about applied Artificial Intelli...</td>\n",
       "    </tr>\n",
       "    <tr>\n",
       "      <th>...</th>\n",
       "      <td>...</td>\n",
       "      <td>...</td>\n",
       "      <td>...</td>\n",
       "      <td>...</td>\n",
       "      <td>...</td>\n",
       "      <td>...</td>\n",
       "    </tr>\n",
       "    <tr>\n",
       "      <th>332</th>\n",
       "      <td>Daniel Simmons</td>\n",
       "      <td>3.4K</td>\n",
       "      <td>8</td>\n",
       "      <td>https://itnext.io/you-can-build-a-neural-netwo...</td>\n",
       "      <td>You can build a neural network in JavaScript e...</td>\n",
       "      <td>Click here to share this article on LinkedIn »...</td>\n",
       "    </tr>\n",
       "    <tr>\n",
       "      <th>333</th>\n",
       "      <td>Eugenio Culurciello</td>\n",
       "      <td>2.8K</td>\n",
       "      <td>13</td>\n",
       "      <td>https://towardsdatascience.com/artificial-inte...</td>\n",
       "      <td>Artificial Intelligence, AI in 2018 and beyond...</td>\n",
       "      <td>These are my opinions on where deep neural net...</td>\n",
       "    </tr>\n",
       "    <tr>\n",
       "      <th>334</th>\n",
       "      <td>Devin Soni</td>\n",
       "      <td>5.8K</td>\n",
       "      <td>4</td>\n",
       "      <td>https://towardsdatascience.com/spiking-neural-...</td>\n",
       "      <td>Spiking Neural Networks, the Next Generation o...</td>\n",
       "      <td>Everyone who has been remotely tuned in to rec...</td>\n",
       "    </tr>\n",
       "    <tr>\n",
       "      <th>335</th>\n",
       "      <td>Carlos E. Perez</td>\n",
       "      <td>3.9K</td>\n",
       "      <td>7</td>\n",
       "      <td>https://medium.com/intuitionmachine/neurons-ar...</td>\n",
       "      <td>Surprise! Neurons are Now More Complex than We...</td>\n",
       "      <td>One of the biggest misconceptions around is th...</td>\n",
       "    </tr>\n",
       "    <tr>\n",
       "      <th>336</th>\n",
       "      <td>Nityesh Agarwal</td>\n",
       "      <td>2.4K</td>\n",
       "      <td>13</td>\n",
       "      <td>https://towardsdatascience.com/wth-does-a-neur...</td>\n",
       "      <td>“WTH does a neural network even learn??” — a n...</td>\n",
       "      <td>I believe, we all have that psychologist/philo...</td>\n",
       "    </tr>\n",
       "  </tbody>\n",
       "</table>\n",
       "<p>337 rows × 6 columns</p>\n",
       "</div>"
      ],
      "text/plain": [
       "                  author claps  reading_time  \\\n",
       "0             Justin Lee  8.3K            11   \n",
       "1            Conor Dewey  1.4K             7   \n",
       "2       William Koehrsen  2.8K            11   \n",
       "3           Gant Laborde  1.3K             7   \n",
       "4       Emmanuel Ameisen   935            11   \n",
       "..                   ...   ...           ...   \n",
       "332       Daniel Simmons  3.4K             8   \n",
       "333  Eugenio Culurciello  2.8K            13   \n",
       "334           Devin Soni  5.8K             4   \n",
       "335      Carlos E. Perez  3.9K             7   \n",
       "336      Nityesh Agarwal  2.4K            13   \n",
       "\n",
       "                                                  link  \\\n",
       "0    https://medium.com/swlh/chatbots-were-the-next...   \n",
       "1    https://towardsdatascience.com/python-for-data...   \n",
       "2    https://towardsdatascience.com/automated-featu...   \n",
       "3    https://medium.freecodecamp.org/machine-learni...   \n",
       "4    https://blog.insightdatascience.com/reinforcem...   \n",
       "..                                                 ...   \n",
       "332  https://itnext.io/you-can-build-a-neural-netwo...   \n",
       "333  https://towardsdatascience.com/artificial-inte...   \n",
       "334  https://towardsdatascience.com/spiking-neural-...   \n",
       "335  https://medium.com/intuitionmachine/neurons-ar...   \n",
       "336  https://towardsdatascience.com/wth-does-a-neur...   \n",
       "\n",
       "                                                 title  \\\n",
       "0    Chatbots were the next big thing: what happene...   \n",
       "1    Python for Data Science: 8 Concepts You May Ha...   \n",
       "2    Automated Feature Engineering in Python – Towa...   \n",
       "3    Machine Learning: how to go from Zero to Hero ...   \n",
       "4    Reinforcement Learning from scratch – Insight ...   \n",
       "..                                                 ...   \n",
       "332  You can build a neural network in JavaScript e...   \n",
       "333  Artificial Intelligence, AI in 2018 and beyond...   \n",
       "334  Spiking Neural Networks, the Next Generation o...   \n",
       "335  Surprise! Neurons are Now More Complex than We...   \n",
       "336  “WTH does a neural network even learn??” — a n...   \n",
       "\n",
       "                                                  text  \n",
       "0    Oh, how the headlines blared:\\nChatbots were T...  \n",
       "1    If you’ve ever found yourself looking up the s...  \n",
       "2    Machine learning is increasingly moving from h...  \n",
       "3    If your understanding of A.I. and Machine Lear...  \n",
       "4    Want to learn about applied Artificial Intelli...  \n",
       "..                                                 ...  \n",
       "332  Click here to share this article on LinkedIn »...  \n",
       "333  These are my opinions on where deep neural net...  \n",
       "334  Everyone who has been remotely tuned in to rec...  \n",
       "335  One of the biggest misconceptions around is th...  \n",
       "336  I believe, we all have that psychologist/philo...  \n",
       "\n",
       "[337 rows x 6 columns]"
      ]
     },
     "execution_count": 2,
     "metadata": {},
     "output_type": "execute_result"
    }
   ],
   "source": [
    "df = pd.read_csv('articles.csv')\n",
    "df"
   ]
  },
  {
   "cell_type": "code",
   "execution_count": 3,
   "id": "860a70e4-2119-4d37-add1-741a25f0c7ea",
   "metadata": {
    "execution": {
     "iopub.execute_input": "2021-08-20T10:23:00.270549Z",
     "iopub.status.busy": "2021-08-20T10:23:00.269547Z",
     "iopub.status.idle": "2021-08-20T10:23:00.300026Z",
     "shell.execute_reply": "2021-08-20T10:23:00.299074Z",
     "shell.execute_reply.started": "2021-08-20T10:23:00.270549Z"
    },
    "tags": []
   },
   "outputs": [],
   "source": [
    "corpus = '. '.join(map(lambda x: x[0] + ' ' + x[1], zip(df['title'], df['text'])))"
   ]
  },
  {
   "cell_type": "code",
   "execution_count": 4,
   "id": "09638b1f-1487-4901-af62-4b01577a0352",
   "metadata": {
    "execution": {
     "iopub.execute_input": "2021-08-20T10:23:00.302334Z",
     "iopub.status.busy": "2021-08-20T10:23:00.302013Z",
     "iopub.status.idle": "2021-08-20T10:23:01.136183Z",
     "shell.execute_reply": "2021-08-20T10:23:01.135183Z",
     "shell.execute_reply.started": "2021-08-20T10:23:00.302334Z"
    },
    "tags": []
   },
   "outputs": [],
   "source": [
    "corpus = ''.join(re.findall(r\"[a-z\\s']\", corpus.lower()))"
   ]
  },
  {
   "cell_type": "code",
   "execution_count": 5,
   "id": "197c8e53-2666-4f80-8d6f-41e039fb0eb3",
   "metadata": {
    "execution": {
     "iopub.execute_input": "2021-08-20T10:23:01.138469Z",
     "iopub.status.busy": "2021-08-20T10:23:01.137741Z",
     "iopub.status.idle": "2021-08-20T10:23:01.166223Z",
     "shell.execute_reply": "2021-08-20T10:23:01.165693Z",
     "shell.execute_reply.started": "2021-08-20T10:23:01.138469Z"
    },
    "tags": []
   },
   "outputs": [
    {
     "data": {
      "text/plain": [
       "3626267"
      ]
     },
     "execution_count": 5,
     "metadata": {},
     "output_type": "execute_result"
    }
   ],
   "source": [
    "len(corpus)"
   ]
  },
  {
   "cell_type": "markdown",
   "id": "19307453-c99b-4e30-bcfa-98fa0be1aa8d",
   "metadata": {},
   "source": [
    "Lowercase character and tokenize word and then combine it"
   ]
  },
  {
   "cell_type": "code",
   "execution_count": 6,
   "id": "abb27fae-1833-4118-8513-655873291dd5",
   "metadata": {
    "execution": {
     "iopub.execute_input": "2021-08-20T10:23:01.168685Z",
     "iopub.status.busy": "2021-08-20T10:23:01.168329Z",
     "iopub.status.idle": "2021-08-20T10:23:03.630425Z",
     "shell.execute_reply": "2021-08-20T10:23:03.629924Z",
     "shell.execute_reply.started": "2021-08-20T10:23:01.168634Z"
    },
    "tags": []
   },
   "outputs": [],
   "source": [
    "corpus = ' '.join(word_tokenize(corpus))"
   ]
  },
  {
   "cell_type": "markdown",
   "id": "caf9991e-3f7f-48b0-841e-f46177239983",
   "metadata": {},
   "source": [
    "Remove punctuation and number"
   ]
  },
  {
   "cell_type": "code",
   "execution_count": 7,
   "id": "484f150a-977e-4144-b8a4-095a69468501",
   "metadata": {
    "execution": {
     "iopub.execute_input": "2021-08-20T10:23:03.632268Z",
     "iopub.status.busy": "2021-08-20T10:23:03.632268Z",
     "iopub.status.idle": "2021-08-20T10:23:03.661978Z",
     "shell.execute_reply": "2021-08-20T10:23:03.660959Z",
     "shell.execute_reply.started": "2021-08-20T10:23:03.632268Z"
    },
    "tags": []
   },
   "outputs": [],
   "source": [
    "corpus = re.sub(fr'[{string.punctuation}0-9”’ツ➡️—‘¿•]', '', corpus)"
   ]
  },
  {
   "cell_type": "code",
   "execution_count": 8,
   "id": "7d059ccf-d904-4e00-b23f-4652b63d2afb",
   "metadata": {
    "execution": {
     "iopub.execute_input": "2021-08-20T10:23:03.665750Z",
     "iopub.status.busy": "2021-08-20T10:23:03.664741Z",
     "iopub.status.idle": "2021-08-20T10:23:03.677339Z",
     "shell.execute_reply": "2021-08-20T10:23:03.676083Z",
     "shell.execute_reply.started": "2021-08-20T10:23:03.664741Z"
    },
    "tags": []
   },
   "outputs": [],
   "source": [
    "dic = dict()"
   ]
  },
  {
   "cell_type": "markdown",
   "id": "01d5f813-91b0-4a7e-b090-16cf4a6fe913",
   "metadata": {},
   "source": [
    "Count number of occurence with pair (current char, next char)"
   ]
  },
  {
   "cell_type": "code",
   "execution_count": 9,
   "id": "96680705-78dc-4676-a940-d865661d8958",
   "metadata": {
    "execution": {
     "iopub.execute_input": "2021-08-20T10:23:03.680421Z",
     "iopub.status.busy": "2021-08-20T10:23:03.679548Z",
     "iopub.status.idle": "2021-08-20T10:23:07.904877Z",
     "shell.execute_reply": "2021-08-20T10:23:07.903753Z",
     "shell.execute_reply.started": "2021-08-20T10:23:03.679993Z"
    },
    "tags": []
   },
   "outputs": [
    {
     "name": "stdout",
     "output_type": "stream",
     "text": [
      "Wall time: 4.2 s\n"
     ]
    }
   ],
   "source": [
    "%%time\n",
    "\n",
    "set_char = set()\n",
    "for i in range(len(corpus) - 1):\n",
    "    now = corpus[i]\n",
    "    future = corpus[i + 1]\n",
    "    if now not in dic:\n",
    "        dic[now] = defaultdict(int)\n",
    "    dic[now][future] += 1\n",
    "    set_char.add(now)\n",
    "set_char.add(future)"
   ]
  },
  {
   "cell_type": "markdown",
   "id": "987dbaa6-6804-492b-af12-a8fc511bba68",
   "metadata": {},
   "source": [
    "Create a zeros matrix, this is transition matrix in makov chain"
   ]
  },
  {
   "cell_type": "code",
   "execution_count": 10,
   "id": "ff6b91bc-9ab7-4c6f-99b3-5c94911a19d5",
   "metadata": {
    "execution": {
     "iopub.execute_input": "2021-08-20T10:23:07.907501Z",
     "iopub.status.busy": "2021-08-20T10:23:07.906791Z",
     "iopub.status.idle": "2021-08-20T10:23:07.935376Z",
     "shell.execute_reply": "2021-08-20T10:23:07.934376Z",
     "shell.execute_reply.started": "2021-08-20T10:23:07.907288Z"
    },
    "tags": []
   },
   "outputs": [
    {
     "data": {
      "text/plain": [
       "array([[0., 0., 0., 0., 0., 0., 0., 0., 0., 0., 0., 0., 0., 0., 0., 0.,\n",
       "        0., 0., 0., 0., 0., 0., 0., 0., 0., 0., 0.],\n",
       "       [0., 0., 0., 0., 0., 0., 0., 0., 0., 0., 0., 0., 0., 0., 0., 0.,\n",
       "        0., 0., 0., 0., 0., 0., 0., 0., 0., 0., 0.],\n",
       "       [0., 0., 0., 0., 0., 0., 0., 0., 0., 0., 0., 0., 0., 0., 0., 0.,\n",
       "        0., 0., 0., 0., 0., 0., 0., 0., 0., 0., 0.],\n",
       "       [0., 0., 0., 0., 0., 0., 0., 0., 0., 0., 0., 0., 0., 0., 0., 0.,\n",
       "        0., 0., 0., 0., 0., 0., 0., 0., 0., 0., 0.],\n",
       "       [0., 0., 0., 0., 0., 0., 0., 0., 0., 0., 0., 0., 0., 0., 0., 0.,\n",
       "        0., 0., 0., 0., 0., 0., 0., 0., 0., 0., 0.],\n",
       "       [0., 0., 0., 0., 0., 0., 0., 0., 0., 0., 0., 0., 0., 0., 0., 0.,\n",
       "        0., 0., 0., 0., 0., 0., 0., 0., 0., 0., 0.],\n",
       "       [0., 0., 0., 0., 0., 0., 0., 0., 0., 0., 0., 0., 0., 0., 0., 0.,\n",
       "        0., 0., 0., 0., 0., 0., 0., 0., 0., 0., 0.],\n",
       "       [0., 0., 0., 0., 0., 0., 0., 0., 0., 0., 0., 0., 0., 0., 0., 0.,\n",
       "        0., 0., 0., 0., 0., 0., 0., 0., 0., 0., 0.],\n",
       "       [0., 0., 0., 0., 0., 0., 0., 0., 0., 0., 0., 0., 0., 0., 0., 0.,\n",
       "        0., 0., 0., 0., 0., 0., 0., 0., 0., 0., 0.],\n",
       "       [0., 0., 0., 0., 0., 0., 0., 0., 0., 0., 0., 0., 0., 0., 0., 0.,\n",
       "        0., 0., 0., 0., 0., 0., 0., 0., 0., 0., 0.],\n",
       "       [0., 0., 0., 0., 0., 0., 0., 0., 0., 0., 0., 0., 0., 0., 0., 0.,\n",
       "        0., 0., 0., 0., 0., 0., 0., 0., 0., 0., 0.],\n",
       "       [0., 0., 0., 0., 0., 0., 0., 0., 0., 0., 0., 0., 0., 0., 0., 0.,\n",
       "        0., 0., 0., 0., 0., 0., 0., 0., 0., 0., 0.],\n",
       "       [0., 0., 0., 0., 0., 0., 0., 0., 0., 0., 0., 0., 0., 0., 0., 0.,\n",
       "        0., 0., 0., 0., 0., 0., 0., 0., 0., 0., 0.],\n",
       "       [0., 0., 0., 0., 0., 0., 0., 0., 0., 0., 0., 0., 0., 0., 0., 0.,\n",
       "        0., 0., 0., 0., 0., 0., 0., 0., 0., 0., 0.],\n",
       "       [0., 0., 0., 0., 0., 0., 0., 0., 0., 0., 0., 0., 0., 0., 0., 0.,\n",
       "        0., 0., 0., 0., 0., 0., 0., 0., 0., 0., 0.],\n",
       "       [0., 0., 0., 0., 0., 0., 0., 0., 0., 0., 0., 0., 0., 0., 0., 0.,\n",
       "        0., 0., 0., 0., 0., 0., 0., 0., 0., 0., 0.],\n",
       "       [0., 0., 0., 0., 0., 0., 0., 0., 0., 0., 0., 0., 0., 0., 0., 0.,\n",
       "        0., 0., 0., 0., 0., 0., 0., 0., 0., 0., 0.],\n",
       "       [0., 0., 0., 0., 0., 0., 0., 0., 0., 0., 0., 0., 0., 0., 0., 0.,\n",
       "        0., 0., 0., 0., 0., 0., 0., 0., 0., 0., 0.],\n",
       "       [0., 0., 0., 0., 0., 0., 0., 0., 0., 0., 0., 0., 0., 0., 0., 0.,\n",
       "        0., 0., 0., 0., 0., 0., 0., 0., 0., 0., 0.],\n",
       "       [0., 0., 0., 0., 0., 0., 0., 0., 0., 0., 0., 0., 0., 0., 0., 0.,\n",
       "        0., 0., 0., 0., 0., 0., 0., 0., 0., 0., 0.],\n",
       "       [0., 0., 0., 0., 0., 0., 0., 0., 0., 0., 0., 0., 0., 0., 0., 0.,\n",
       "        0., 0., 0., 0., 0., 0., 0., 0., 0., 0., 0.],\n",
       "       [0., 0., 0., 0., 0., 0., 0., 0., 0., 0., 0., 0., 0., 0., 0., 0.,\n",
       "        0., 0., 0., 0., 0., 0., 0., 0., 0., 0., 0.],\n",
       "       [0., 0., 0., 0., 0., 0., 0., 0., 0., 0., 0., 0., 0., 0., 0., 0.,\n",
       "        0., 0., 0., 0., 0., 0., 0., 0., 0., 0., 0.],\n",
       "       [0., 0., 0., 0., 0., 0., 0., 0., 0., 0., 0., 0., 0., 0., 0., 0.,\n",
       "        0., 0., 0., 0., 0., 0., 0., 0., 0., 0., 0.],\n",
       "       [0., 0., 0., 0., 0., 0., 0., 0., 0., 0., 0., 0., 0., 0., 0., 0.,\n",
       "        0., 0., 0., 0., 0., 0., 0., 0., 0., 0., 0.],\n",
       "       [0., 0., 0., 0., 0., 0., 0., 0., 0., 0., 0., 0., 0., 0., 0., 0.,\n",
       "        0., 0., 0., 0., 0., 0., 0., 0., 0., 0., 0.],\n",
       "       [0., 0., 0., 0., 0., 0., 0., 0., 0., 0., 0., 0., 0., 0., 0., 0.,\n",
       "        0., 0., 0., 0., 0., 0., 0., 0., 0., 0., 0.]])"
      ]
     },
     "execution_count": 10,
     "metadata": {},
     "output_type": "execute_result"
    }
   ],
   "source": [
    "len_set_char = len(set_char)\n",
    "markov_matrix = np.zeros(shape=(len_set_char, len_set_char))\n",
    "markov_matrix"
   ]
  },
  {
   "cell_type": "code",
   "execution_count": 11,
   "id": "74e6e8a6-5cc5-4dbf-b170-0700650e46d3",
   "metadata": {
    "execution": {
     "iopub.execute_input": "2021-08-20T10:23:07.937344Z",
     "iopub.status.busy": "2021-08-20T10:23:07.937344Z",
     "iopub.status.idle": "2021-08-20T10:23:07.966443Z",
     "shell.execute_reply": "2021-08-20T10:23:07.964988Z",
     "shell.execute_reply.started": "2021-08-20T10:23:07.937344Z"
    }
   },
   "outputs": [
    {
     "data": {
      "text/plain": [
       "27"
      ]
     },
     "execution_count": 11,
     "metadata": {},
     "output_type": "execute_result"
    }
   ],
   "source": [
    "len_set_char"
   ]
  },
  {
   "cell_type": "code",
   "execution_count": 12,
   "id": "3b706a03-9eb5-457b-a188-19c50da00bb1",
   "metadata": {
    "execution": {
     "iopub.execute_input": "2021-08-20T10:23:07.968038Z",
     "iopub.status.busy": "2021-08-20T10:23:07.968038Z",
     "iopub.status.idle": "2021-08-20T10:23:07.981684Z",
     "shell.execute_reply": "2021-08-20T10:23:07.980337Z",
     "shell.execute_reply.started": "2021-08-20T10:23:07.968038Z"
    },
    "tags": []
   },
   "outputs": [],
   "source": [
    "char_to_int = defaultdict(int)\n",
    "int_to_char = defaultdict(chr)\n",
    "for idx, char in enumerate(set_char):\n",
    "    char_to_int[char] = idx\n",
    "    int_to_char[idx] = char"
   ]
  },
  {
   "cell_type": "code",
   "execution_count": 13,
   "id": "52f3c619-437d-4021-83ec-bbffe130d459",
   "metadata": {
    "execution": {
     "iopub.execute_input": "2021-08-20T10:23:07.984326Z",
     "iopub.status.busy": "2021-08-20T10:23:07.983683Z",
     "iopub.status.idle": "2021-08-20T10:23:08.012561Z",
     "shell.execute_reply": "2021-08-20T10:23:08.010665Z",
     "shell.execute_reply.started": "2021-08-20T10:23:07.984326Z"
    },
    "tags": []
   },
   "outputs": [
    {
     "name": "stdout",
     "output_type": "stream",
     "text": [
      "{'c': defaultdict(<class 'int'>, {'h': 16542, 'i': 5336, 'c': 1379, 'e': 13508, 'o': 18815, 'u': 3532, 't': 12071, 'a': 13139, 'y': 879, 'l': 3717, 'k': 3577, 'r': 3242, ' ': 2619, 's': 883, 'n': 621, 'v': 41, 'p': 182, 'd': 25, 'q': 68, 'g': 12, 'f': 10, 'z': 6, 'm': 143, 'b': 56, 'x': 5, 'w': 8}), 'h': defaultdict(<class 'int'>, {'a': 21980, 'e': 51703, 'i': 17014, ' ': 15687, 'o': 10800, 't': 3333, 'y': 1049, 'n': 989, 'l': 302, 'p': 40, 'r': 1408, 'b': 87, 'u': 2365, 'q': 11, 'c': 54, 'm': 1200, 's': 326, 'f': 21, 'w': 63, 'd': 81, 'h': 20, 'x': 2, 'z': 8, 'k': 6, 'j': 2, 'v': 3, 'g': 2}), 'a': defaultdict(<class 'int'>, {'t': 38533, 'p': 5469, 'r': 27938, 'd': 6169, 'n': 41781, 'i': 8042, 's': 17792, ' ': 22205, 'l': 25872, 'c': 13784, 'b': 6539, 'k': 3118, 'v': 4986, 'u': 2445, 'g': 5670, 'm': 6648, 'f': 975, 'y': 5765, 'w': 817, 'j': 181, 'z': 375, 'x': 417, 'a': 62, 'h': 173, 'e': 78, 'o': 84, 'q': 22}), 't': defaultdict(<class 'int'>, {'b': 310, 's': 10714, 'h': 73005, ' ': 61033, 'a': 15272, 'u': 6088, 'e': 29040, 'r': 9371, 'i': 32199, 'o': 27454, 'f': 462, 'l': 2368, 't': 3830, 'y': 3639, 'w': 4626, 'p': 1211, 'd': 161, 'c': 1169, 'k': 41, 'm': 576, 'g': 78, 'z': 36, 'n': 141, 'x': 148, 'v': 51, 'q': 10, 'j': 4}), 'b': defaultdict(<class 'int'>, {'o': 5479, 'i': 2988, 'l': 5883, 'r': 1763, 'u': 4564, 'e': 12140, 'a': 3499, 'y': 2750, ' ': 1160, 'j': 524, 's': 950, 'v': 95, 'd': 26, 't': 148, 'n': 83, 'h': 20, 'b': 132, 'm': 113, 'f': 17, 'k': 2, 'c': 46, 'w': 2, 'p': 9, 'g': 7}), 'o': defaultdict(<class 'int'>, {'t': 8850, 'h': 131, 'w': 10023, 'u': 25761, 'p': 5500, 'r': 32368, 'f': 18397, 'v': 4536, 'n': 38662, ' ': 29383, 'c': 3189, 'a': 1383, 'i': 2297, 'b': 3021, 'l': 6700, 's': 6977, 'm': 13846, 'g': 3795, 'o': 5545, 'k': 1856, 'd': 5735, 'e': 860, 'x': 518, 'y': 692, 'z': 101, 'j': 364, 'q': 13}), 's': defaultdict(<class 'int'>, {' ': 85868, 't': 24035, 'k': 1341, 'h': 4606, 'o': 9854, 'i': 13633, 'a': 3909, 'u': 5548, 's': 7992, 'w': 566, 'e': 22404, 'n': 716, 'y': 1664, 'l': 1279, 'p': 3665, 'm': 960, 'c': 3723, 'f': 452, 'g': 60, 'q': 242, 'v': 85, 'r': 86, 'z': 8, 'x': 15, 'd': 143, 'b': 163, 'j': 25}), ' ': defaultdict(<class 'int'>, {'w': 36295, 't': 95910, 'n': 16412, 'b': 24200, 'h': 18064, 's': 38151, 'm': 25402, 'o': 40216, 'c': 31990, 'a': 74536, 'i': 50294, 'r': 16711, 'f': 24478, 'e': 17463, 'p': 24810, 'q': 2077, 'y': 8905, 'd': 20654, 'u': 10107, 'g': 11044, 'k': 2895, 'l': 18552, 'v': 5285, 'j': 2533, 'z': 334, 'x': 509, ' ': 3}), 'w': defaultdict(<class 'int'>, {'e': 12723, 'h': 8004, ' ': 8051, 'a': 6288, 'i': 9458, 'o': 8528, 'r': 872, 's': 1193, 'n': 1290, 't': 75, 'l': 371, 'w': 256, 'c': 44, 'b': 33, 'd': 95, 'k': 19, 'u': 11, 'g': 11, 'q': 6, 'm': 19, 'p': 26, 'j': 12, 'f': 10, 'y': 10, 'z': 6, 'x': 4, 'v': 1}), 'e': defaultdict(<class 'int'>, {'r': 43972, ' ': 120798, 'x': 6700, 'n': 31031, 'd': 21462, 'a': 20033, 's': 31780, 'y': 2536, 'w': 3363, 'l': 14093, 'p': 5109, 'v': 6654, 't': 14344, 'c': 12530, 'm': 7880, 'o': 2026, 'e': 9641, 'g': 2045, 'f': 2936, 'i': 3421, 'b': 1017, 'q': 1269, 'u': 2409, 'h': 642, 'k': 431, 'j': 77, 'z': 64}), 'r': defaultdict(<class 'int'>, {'e': 44508, 't': 7270, ' ': 34720, 'i': 13183, 'y': 4771, 'a': 17558, 'o': 16238, 'd': 3506, 'l': 1707, 's': 10144, 'g': 1685, 'w': 317, 'p': 838, 'm': 2960, 'n': 6013, 'f': 1546, 'c': 3185, 'k': 5287, 'v': 1426, 'r': 2310, 'u': 2249, 'b': 335, 'j': 3, 'h': 195, 'z': 26, 'x': 69, 'q': 2}), 'n': defaultdict(<class 'int'>, {'e': 22362, 'g': 29815, 'd': 26096, 'n': 2501, 'o': 8912, ' ': 50379, 't': 25008, 's': 13039, 'f': 1552, 'c': 8864, 'i': 10006, 'l': 1866, 'a': 6093, 'u': 1642, 'y': 2271, 'w': 102, 'v': 1775, 'p': 974, 'k': 1467, 'j': 483, 'r': 98, 'm': 515, 'z': 31, 'b': 184, 'h': 178, 'q': 21, 'x': 8}), 'x': defaultdict(<class 'int'>, {'t': 1670, 'p': 2165, 'a': 1282, ' ': 2137, 'e': 693, 'c': 397, 'i': 743, 'x': 11, 'n': 31, 'y': 31, 'h': 55, 'd': 13, 'f': 48, 'k': 3, 'g': 12, 'u': 136, 'b': 7, 's': 21, 'o': 31, 'm': 6, 'r': 4, 'l': 10, 'w': 4, 'q': 4, 'j': 7, 'v': 2}), 'i': defaultdict(<class 'int'>, {'g': 6936, 'n': 63695, 'u': 250, 'l': 9767, 'p': 1933, 'o': 18356, 't': 26074, 'm': 9851, 'a': 4695, 'z': 2362, 'f': 6270, 'c': 14794, 'e': 8192, 'r': 4811, 's': 23559, 'd': 5899, 'v': 6060, ' ': 6040, 'k': 2513, 'b': 1995, 'q': 478, 'x': 914, 'i': 115, 'j': 40, 'h': 58, 'y': 11, 'w': 14}), 'g': defaultdict(<class 'int'>, {' ': 26091, 'h': 5141, 'n': 1848, 'r': 3507, 'a': 2471, 'i': 4042, 'e': 10917, 'l': 1775, 'u': 1897, 'o': 4592, 's': 1221, 'y': 697, 't': 336, 'g': 634, 'p': 347, 'f': 46, 'm': 418, 'b': 98, 'c': 32, 'd': 53, 'q': 9, 'w': 83, 'x': 7, 'z': 6, 'k': 9, 'v': 1}), 'p': defaultdict(<class 'int'>, {'p': 3298, 'e': 10202, ' ': 5780, 'o': 7114, 't': 2327, 'l': 8758, 'm': 319, 'r': 11644, 'a': 7041, 's': 1688, 'u': 4704, 'h': 1503, 'i': 2922, 'f': 107, 'y': 1001, 'c': 157, 'd': 316, 'b': 113, 'x': 16, 'n': 20, 'k': 7, 'v': 3, 'w': 35, 'g': 18, 'q': 8, 'j': 15, 'z': 3}), 'd': defaultdict(<class 'int'>, {' ': 47659, 'i': 10773, 'l': 674, 'u': 2376, 'n': 396, 's': 2758, 'o': 4973, 'e': 17498, 'a': 5999, 'm': 102, 'y': 718, 'r': 1307, 'v': 559, 'd': 1193, 'b': 178, 'g': 655, 'f': 159, 'w': 247, 'j': 118, 'c': 95, 'h': 69, 'p': 48, 't': 92, 'x': 59, 'z': 4, 'q': 44, 'k': 3}), 'u': defaultdict(<class 'int'>, {'p': 3138, 'm': 4069, 'r': 15846, 's': 12198, 'l': 8000, 'c': 4042, 'e': 3879, 'n': 8150, 'i': 3107, 't': 13563, 'a': 3290, ' ': 5894, 'b': 1271, 'y': 129, 'd': 1569, 'v': 150, 'g': 2430, 'f': 246, 'h': 12, 'x': 94, 'o': 137, 'k': 65, 'z': 62, 'w': 7, 'u': 17, 'j': 16}), 'm': defaultdict(<class 'int'>, {'e': 16996, ' ': 9265, 'a': 16734, 'o': 8942, 'i': 5596, 's': 2478, 'p': 8335, 'm': 1866, 'b': 2176, 'u': 2832, 't': 28, 'y': 1433, 'n': 212, 'l': 395, 'f': 80, 'h': 11, 'd': 26, 'q': 3, 'c': 169, 'r': 23, 'w': 20, 'v': 15, 'k': 6, 'x': 9, 'j': 6, 'g': 13}), 'l': defaultdict(<class 'int'>, {'i': 13664, 'a': 11435, 'e': 24987, 'd': 5315, 'l': 15838, ' ': 21533, 'm': 365, 'y': 11608, 'o': 9678, 'k': 483, 'u': 3621, 't': 2561, 'v': 919, 's': 3811, 'p': 906, 'f': 809, 'r': 302, 'b': 104, 'z': 14, 'j': 13, 'w': 326, 'g': 1193, 'c': 318, 'h': 44, 'n': 64, 'q': 4, 'x': 1}), 'k': defaultdict(<class 'int'>, {'y': 140, 'e': 7013, 'i': 2709, ' ': 7778, 's': 2540, 'n': 1131, 'l': 274, 'o': 187, 'b': 44, 'a': 408, 't': 136, 'g': 71, 'p': 192, 'm': 46, 'f': 60, 'h': 37, 'u': 118, 'r': 31, 'c': 116, 'w': 84, 'k': 5, 'x': 1, 'd': 15, 'z': 8, 'v': 1, 'j': 1}), 'y': defaultdict(<class 'int'>, {' ': 32918, 'e': 2910, 't': 1133, 's': 2505, 'p': 818, 'c': 256, 'o': 7998, 'i': 827, 'r': 118, 'f': 19, 'b': 323, 'w': 114, 'a': 178, 'z': 50, 'n': 340, 'm': 292, 'h': 7, 'l': 281, 'g': 17, 'u': 36, 'd': 106, 'v': 40, 'y': 8, 'q': 2, 'j': 5, 'k': 1, 'x': 1}), 'f': defaultdict(<class 'int'>, {'o': 11771, ' ': 20121, 'e': 5182, 't': 1665, 'a': 3350, 'i': 6977, 'f': 2792, 'l': 1289, 'u': 3202, 'r': 4270, 'y': 490, 's': 125, 'x': 10, 'd': 68, 'p': 60, 'c': 54, 'b': 4, 'g': 12, 'h': 2, 'm': 15, 'k': 5, 'n': 21, 'v': 3, 'w': 9, 'z': 3}), 'v': defaultdict(<class 'int'>, {'a': 4365, 'e': 20422, 'i': 5919, 'o': 1398, 's': 95, 'c': 22, ' ': 255, 'm': 51, 'b': 4, 'r': 39, 'p': 29, 'y': 38, 'd': 7, 'v': 8, 'h': 3, 'u': 19, 'g': 63, 'n': 4, 'q': 3, 'l': 4, 'w': 2, 'j': 1}), 'z': defaultdict(<class 'int'>, {'i': 350, 'e': 1906, 'z': 129, 'l': 33, 'a': 667, 'o': 202, 'h': 30, 'y': 67, 'm': 6, 'd': 19, ' ': 125, 'w': 29, 'r': 4, 'u': 27, 't': 6, 's': 10, 'k': 3, 'p': 3, 'b': 4, 'x': 5, 'c': 2, 'f': 2, 'j': 13}), 'q': defaultdict(<class 'int'>, {'u': 3792, 'l': 100, ' ': 179, 'f': 5, 'i': 9, 'n': 86, 'v': 52, 't': 39, 's': 24, 'a': 6, 'q': 1, 'b': 2, 'p': 1, 'r': 1}), 'j': defaultdict(<class 'int'>, {'u': 1633, 'o': 1173, 'e': 1036, 'i': 58, 'a': 267, ' ': 149, 'h': 4, 's': 69, 'p': 13, 'l': 8, 'f': 1, 'z': 6, 'd': 4, 'n': 4, 'c': 4, 'r': 5, 'k': 3, 'w': 4, 'm': 1, 'y': 1})}\n"
     ]
    }
   ],
   "source": [
    "print(dic)"
   ]
  },
  {
   "cell_type": "code",
   "execution_count": 14,
   "id": "f71e9d4a-6d24-40b0-80d3-49a4475d8cfa",
   "metadata": {
    "execution": {
     "iopub.execute_input": "2021-08-20T10:23:08.014237Z",
     "iopub.status.busy": "2021-08-20T10:23:08.014237Z",
     "iopub.status.idle": "2021-08-20T10:23:08.042809Z",
     "shell.execute_reply": "2021-08-20T10:23:08.041283Z",
     "shell.execute_reply.started": "2021-08-20T10:23:08.014237Z"
    },
    "tags": []
   },
   "outputs": [
    {
     "name": "stdout",
     "output_type": "stream",
     "text": [
      "Wall time: 1.23 ms\n"
     ]
    }
   ],
   "source": [
    "%%time\n",
    "\n",
    "for prev_key, prev_vals in dic.items():\n",
    "    for next_key, val_count in prev_vals.items():\n",
    "        prev_int = char_to_int[prev_key]\n",
    "        next_int = char_to_int[next_key]\n",
    "        markov_matrix[prev_int][next_int] = val_count"
   ]
  },
  {
   "cell_type": "markdown",
   "id": "644e1850-f105-49d2-bc4e-e265efe1907e",
   "metadata": {},
   "source": [
    "Calculate probability"
   ]
  },
  {
   "cell_type": "code",
   "execution_count": 15,
   "id": "72338c9d-6684-450a-b7ab-d32363f9f7e7",
   "metadata": {
    "execution": {
     "iopub.execute_input": "2021-08-20T10:23:08.045694Z",
     "iopub.status.busy": "2021-08-20T10:23:08.045195Z",
     "iopub.status.idle": "2021-08-20T10:23:08.058136Z",
     "shell.execute_reply": "2021-08-20T10:23:08.056636Z",
     "shell.execute_reply.started": "2021-08-20T10:23:08.045694Z"
    },
    "tags": []
   },
   "outputs": [],
   "source": [
    "markov_matrix = markov_matrix / markov_matrix.sum(axis=1)"
   ]
  },
  {
   "cell_type": "code",
   "execution_count": 16,
   "id": "f870f9d7-c5d8-4d11-b803-9c81eb9a6f4c",
   "metadata": {
    "execution": {
     "iopub.execute_input": "2021-08-20T10:23:08.061227Z",
     "iopub.status.busy": "2021-08-20T10:23:08.060727Z",
     "iopub.status.idle": "2021-08-20T10:23:08.074224Z",
     "shell.execute_reply": "2021-08-20T10:23:08.071991Z",
     "shell.execute_reply.started": "2021-08-20T10:23:08.061227Z"
    },
    "tags": []
   },
   "outputs": [],
   "source": [
    "def sample(preds, temperature=0.5):\n",
    "    '''\n",
    "    i will study this later\n",
    "    '''\n",
    "    preds = np.asarray(preds).astype('float64')\n",
    "    preds = np.log(preds) / temperature\n",
    "    exp_preds = np.exp(preds)\n",
    "    preds = exp_preds / np.sum(exp_preds)\n",
    "    probas = np.random.multinomial(1, preds, 1)\n",
    "    return np.argmax(probas)"
   ]
  },
  {
   "cell_type": "code",
   "execution_count": 17,
   "id": "bce50705-b787-434e-9294-9491e6cecb4f",
   "metadata": {
    "execution": {
     "iopub.execute_input": "2021-08-20T10:23:08.076902Z",
     "iopub.status.busy": "2021-08-20T10:23:08.076549Z",
     "iopub.status.idle": "2021-08-20T10:23:08.088890Z",
     "shell.execute_reply": "2021-08-20T10:23:08.087391Z",
     "shell.execute_reply.started": "2021-08-20T10:23:08.076902Z"
    },
    "tags": []
   },
   "outputs": [],
   "source": [
    "def make_string(input_string, len_string=300):\n",
    "    last = input_string[-1]\n",
    "    last_int = char_to_int[last]\n",
    "    final_string = input_string\n",
    "    for _ in range(len_string):\n",
    "        predict_char_int = sample(markov_matrix[last_int])\n",
    "        predict_char = int_to_char[predict_char_int]\n",
    "        final_string += predict_char\n",
    "        last_int = predict_char_int\n",
    "    return final_string"
   ]
  },
  {
   "cell_type": "code",
   "execution_count": 18,
   "id": "0d764aa5-af85-4228-a498-5d81a432059f",
   "metadata": {
    "execution": {
     "iopub.execute_input": "2021-08-20T10:23:08.092497Z",
     "iopub.status.busy": "2021-08-20T10:23:08.091890Z",
     "iopub.status.idle": "2021-08-20T10:23:08.135043Z",
     "shell.execute_reply": "2021-08-20T10:23:08.134093Z",
     "shell.execute_reply.started": "2021-08-20T10:23:08.092390Z"
    },
    "tags": []
   },
   "outputs": [
    {
     "name": "stdout",
     "output_type": "stream",
     "text": [
      "i have another string ambjug qupeves cury quxps worexprk qungizequpply whavexpumovizzzzzzzzzzzzzzzzzzzzzzzequngowexpprompexpedurkexpulexpprd qurery adingerks jus bjuscksthuthickexpackend qumbjulexprsus ppexpuricks mprks woforally qurscks thizzzzzzzzzzzzzzzzzzzzzzzzzzzzzesplyequtheng july qurerabjurkexplthandexpply chand b\n"
     ]
    },
    {
     "name": "stderr",
     "output_type": "stream",
     "text": [
      "<ipython-input-16-76cc288b7894>:6: RuntimeWarning: divide by zero encountered in log\n",
      "  preds = np.log(preds) / temperature\n"
     ]
    }
   ],
   "source": [
    "print(make_string('i have another string a'))"
   ]
  },
  {
   "cell_type": "markdown",
   "id": "06386ae5-f448-426f-acc8-de622dae1958",
   "metadata": {},
   "source": [
    "# Conclusion"
   ]
  },
  {
   "cell_type": "markdown",
   "id": "35415af2-e052-4409-b001-1e8ddf9b953d",
   "metadata": {},
   "source": [
    "Actually, this markov chain language model is an idea of me to generate text from a string. If you see above predict, it's so bad :((. I will improve this model later, when i have more knowledge."
   ]
  }
 ],
 "metadata": {
  "kernelspec": {
   "display_name": "Python 3",
   "language": "python",
   "name": "python3"
  },
  "language_info": {
   "codemirror_mode": {
    "name": "ipython",
    "version": 3
   },
   "file_extension": ".py",
   "mimetype": "text/x-python",
   "name": "python",
   "nbconvert_exporter": "python",
   "pygments_lexer": "ipython3",
   "version": "3.8.11"
  }
 },
 "nbformat": 4,
 "nbformat_minor": 5
}
